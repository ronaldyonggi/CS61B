{
 "cells": [
  {
   "cell_type": "markdown",
   "metadata": {},
   "source": [
    "# 2. Is This a BST?"
   ]
  },
  {
   "cell_type": "code",
   "execution_count": null,
   "metadata": {},
   "outputs": [],
   "source": [
    "class TreeNode{\n",
    "    int val;\n",
    "    TreeNode left;\n",
    "    TreeNode right;\n",
    "}"
   ]
  },
  {
   "cell_type": "code",
   "execution_count": null,
   "metadata": {},
   "outputs": [],
   "source": [
    "public static boolean buggyIsBST(TreeNode T) {\n",
    "    if (T == null) return true;\n",
    "    else if (T.left != null && T.left.val > T.val) return false;\n",
    "    else if (T.right != null && T.right.val < T.bal) return false;\n",
    "    else return buggyIsBST(T.left) && buggyIsBST(T.right);\n",
    "}"
   ]
  },
  {
   "cell_type": "markdown",
   "metadata": {},
   "source": [
    "#### Answer\n",
    "\n",
    "An example of a binary tree where `buggyIsBST` fails:\n",
    "\n",
    "![](images/fail.png)\n",
    "\n",
    "The method only checks whether:\n",
    "* If the value on the left node is smaller than the current node and\n",
    "* If the value on the right node is greater than the current node\n",
    "\n",
    "It doesn't check whether values are:\n",
    "* Greater than every node in the left side\n",
    "* Less than every node in the right side\n",
    "\n",
    "The correct implementation is as the following,"
   ]
  },
  {
   "cell_type": "code",
   "execution_count": null,
   "metadata": {},
   "outputs": [],
   "source": [
    "public static boolean isBST(TreeNode T) {\n",
    "    return isBSTHelper()\n",
    "}\n",
    "\n",
    "public static boolean isBSTHelper(TreeNode T, int min, int max){\n",
    "    if (T == null) return true;\n",
    "    else if (T.val < min || T.val > max) return false;\n",
    "    \n",
    "    else{\n",
    "        // On left side, set the max as the current val\n",
    "        // On right side, set the min as the current val\n",
    "        return isBSTHelper(T.left, min, T.val) && isBSTHelper(T.right, T.val, max);\n",
    "    }\n",
    "}"
   ]
  },
  {
   "cell_type": "markdown",
   "metadata": {},
   "source": [
    "Works as the following:\n",
    "\n",
    "* For every node, we check if the value less than the `min so far` or greater than the `max so far`. If yes, then it's not a BST\n",
    "* Otherwise, we traverse to left and right\n",
    "    * If we traverse to the left, we call recursive `isBSTHelper` but this time, we set the `max so far` to be the current node's value\n",
    "        * This way, it ensures that no value on the left side can't be greater than the current `max`.\n",
    "    * If we traverse to the right, we call recursive `isBSTHelper` but this time, we set the `min so far` to be the current node's value.\n",
    "        * Ensures that no value on the right side is smaller than the current `min`\n",
    "        \n",
    "In the initial call, we set `min` and `max` as the smallest and biggest integer possible"
   ]
  },
  {
   "cell_type": "code",
   "execution_count": null,
   "metadata": {},
   "outputs": [],
   "source": []
  }
 ],
 "metadata": {
  "kernelspec": {
   "display_name": "Python 3",
   "language": "python",
   "name": "python3"
  },
  "language_info": {
   "codemirror_mode": {
    "name": "ipython",
    "version": 3
   },
   "file_extension": ".py",
   "mimetype": "text/x-python",
   "name": "python",
   "nbconvert_exporter": "python",
   "pygments_lexer": "ipython3",
   "version": "3.7.4"
  }
 },
 "nbformat": 4,
 "nbformat_minor": 2
}
