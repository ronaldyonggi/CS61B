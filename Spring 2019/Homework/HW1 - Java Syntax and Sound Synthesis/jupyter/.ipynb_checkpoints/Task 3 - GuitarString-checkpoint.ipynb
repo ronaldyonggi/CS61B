{
 "cells": [
  {
   "cell_type": "markdown",
   "metadata": {},
   "source": [
    "### `GuitarString` constructor"
   ]
  },
  {
   "cell_type": "markdown",
   "metadata": {},
   "source": [
    "Notice that the `GuitarString` class already have a private instance variable `BoundedQueue<Double> buffer` declared. We just need to assign an `ArrayRingBuffer` object to this variable.\n",
    "\n",
    "Recall that the `ArrayRingBuffer` takes an `int` as an argument which is the capacity of the array.\n",
    "* The `capacity`, `SR / frequency`, will be a double because of the result of the division. We will need to cast the data type from `double` to `int`."
   ]
  },
  {
   "cell_type": "code",
   "execution_count": null,
   "metadata": {},
   "outputs": [],
   "source": [
    "buffer = new ArrayRingBuffer<>((int) Math.round(SR/frequency))"
   ]
  },
  {
   "cell_type": "markdown",
   "metadata": {},
   "source": [
    "...and the `buffer` has to be initially filled with zeros. Since our `buffer` takes doubles, use `0.0` instead of `0`."
   ]
  },
  {
   "cell_type": "code",
   "execution_count": null,
   "metadata": {},
   "outputs": [],
   "source": [
    "for (int i = 0; i < buffer.capacity(); i++) {\n",
    "    buffer.enqueue(null);\n",
    "}"
   ]
  },
  {
   "cell_type": "markdown",
   "metadata": {},
   "source": [
    "The complete implementation is as the following,"
   ]
  },
  {
   "cell_type": "code",
   "execution_count": null,
   "metadata": {},
   "outputs": [],
   "source": [
    "public GuitarString(double frequency) {\n",
    "    // TODO: Create a buffer with capacity = SR / frequency. You'll need to\n",
    "    //       cast the result of this division operation into an int. For\n",
    "    //       better accuracy, use the Math.round() function before casting.\n",
    "    //       Your buffer should be initially filled with zeros.\n",
    "    buffer = new ArrayRingBuffer<>((int) Math.round(SR/frequency));\n",
    "    for (int i = 0; i < buffer.capacity(); i++) {\n",
    "        buffer.enqueue(null);\n",
    "    }\n",
    "}"
   ]
  },
  {
   "cell_type": "markdown",
   "metadata": {},
   "source": [
    "### `pluck()`"
   ]
  },
  {
   "cell_type": "markdown",
   "metadata": {},
   "source": [
    "We are supposed to do the following:\n",
    "* Dequeue everything in `buffer`\n",
    "* Replace with random numbers between `-0.5` and `0.5`.\n",
    "\n",
    "We can do this by iterating each element, and for every iteration:\n",
    "* Dequeue that element\n",
    "* Then enqueue with the random number between `-0.5` to `0.5`"
   ]
  },
  {
   "cell_type": "code",
   "execution_count": null,
   "metadata": {},
   "outputs": [],
   "source": [
    "public void pluck() {\n",
    "    // TODO: Dequeue everything in buffer, and replace with random numbers\n",
    "    //       between -0.5 and 0.5. You can get such a number by using:\n",
    "    //       double r = Math.random() - 0.5;\n",
    "    //\n",
    "    //       Make sure that your random numbers are different from each\n",
    "    //       other.\n",
    "    for (int i = 0; i < buffer.capacity(); i++){\n",
    "        buffer.dequeue();\n",
    "        buffer.enqueue(Math.random() - 0.5);\n",
    "    }\n",
    "}"
   ]
  },
  {
   "cell_type": "markdown",
   "metadata": {},
   "source": [
    "### `tic()`"
   ]
  },
  {
   "cell_type": "markdown",
   "metadata": {},
   "source": []
  },
  {
   "cell_type": "code",
   "execution_count": null,
   "metadata": {},
   "outputs": [],
   "source": []
  }
 ],
 "metadata": {
  "kernelspec": {
   "display_name": "Python 3",
   "language": "python",
   "name": "python3"
  },
  "language_info": {
   "codemirror_mode": {
    "name": "ipython",
    "version": 3
   },
   "file_extension": ".py",
   "mimetype": "text/x-python",
   "name": "python",
   "nbconvert_exporter": "python",
   "pygments_lexer": "ipython3",
   "version": "3.7.4"
  }
 },
 "nbformat": 4,
 "nbformat_minor": 4
}
