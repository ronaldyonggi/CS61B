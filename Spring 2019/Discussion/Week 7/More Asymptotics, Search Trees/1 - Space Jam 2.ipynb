{
 "cells": [
  {
   "cell_type": "markdown",
   "metadata": {},
   "source": [
    "# 1 - Space Ham 2\n",
    "For each of the following recursive functions, give the worst case and best case runtime in $\\Theta(\\cdot)$ notation.\n",
    "\n",
    "## 1.1\n",
    "Give the running time in terms of `N`."
   ]
  },
  {
   "cell_type": "code",
   "execution_count": null,
   "metadata": {},
   "outputs": [],
   "source": [
    "public void andslam(int N) {\n",
    "    if (N > 0) {\n",
    "        for (int i = 0; i < N; i += 1) {\n",
    "            System.out.println(\"datboi.jpg\");\n",
    "        }\n",
    "        andslam(N / 2);\n",
    "    }\n",
    "}"
   ]
  },
  {
   "cell_type": "markdown",
   "metadata": {},
   "source": [
    "#####  My Own Answer\n",
    "\n",
    "My chosen cost function would be the `i += 1`. \n",
    "\n",
    "##### In case `N = 1`\n",
    "* Print once, then the execution stops since `1/2 < 0`\n",
    "\n",
    "##### In case `N = 6`\n",
    "* Print 6 times\n",
    "* Recursive `andslam(3)`\n",
    "* Print 3 times\n",
    "* Recursive `andslam(1)`\n",
    "* Print once\n",
    "\n",
    "In any case and at the minimum, we are iterating and printing `N` times. Thus, both worst case and best case run time is $\\Theta(N)$."
   ]
  },
  {
   "cell_type": "markdown",
   "metadata": {},
   "source": [
    "#### Solution Manual\n",
    "\n",
    "![](images/prob1.png)\n",
    "\n",
    "###### 1. Height of Tree\n",
    "How many times can we divide `N` by 2 until we get `N = 1`? Let `h` be the height.\n",
    "* `h` is the number of times we divide `N` by 2 until we get `1`. \n",
    "$$ N \\cdot \\frac{1}{2} \\cdot \\frac{1}{2} \\cdot...? = 1$$\n",
    "\n",
    "$$ \\frac{N}{2^h} = 1 $$\n",
    "\n",
    "Solving for `h`, \n",
    "\n",
    "$$ N = 2^h $$\n",
    "$$ h = log_2 N$$\n",
    "\n",
    "###### 2. Branding Factor\n",
    "* Each time `andslam` is called, it makes a recursive call on $N/2$\n",
    "* \\# of nodes per layer = $1$\n",
    "    * We'll see that this is not always the case. In the next problem there'll be 2 nodes per layer\n",
    "\n",
    "###### 3. Amount of work each node does\n",
    "Linear relative to the input size, so $O(N)$\n",
    "\n",
    "Now running time of the entire recursive procedure can be calculated by summing over entire recursive tree.\n",
    "\n",
    "$$\\text{running time} = \\text{sum over layers} \\cdot \\frac{\\text{# of nodes}}{1 \\text{ layer}} \\cdot \\frac{\\text{amount of work}}{1 \\text{ node}}$$\n",
    "\n",
    "$$ = \\sum_{i=0}^{log N} (1) \\cdot (\\frac{N}{2^i})$$\n",
    "\n",
    "Where,\n",
    "* $ \\sum_{i=0}^{log N}$ is the sum over layers\n",
    "    * `i` is the $i^{th}$ layer\n",
    "* $(1)$ is \\# of nodes per layer\n",
    "* $\\frac{N}{2^i}$ is the amount of work per node\n",
    "\n",
    "$$ = \\sum_{i=0}^{log N} \\frac{N}{2^i} \\le N \\sum_{i=0}^{log \\infty} \\frac{1}{2^i} \\le 2N$$\n",
    "\n",
    "\n",
    "$  \\sum_{i=0}^{log N} \\frac{1}{2^i}$ is at most 2 because the geometric sum as it goes to infinity is bounded by 2.\n",
    "\n",
    "Thus, `andslam(N)` runs in $\\Theta(N)$ for both worst and best case."
   ]
  },
  {
   "cell_type": "markdown",
   "metadata": {},
   "source": [
    "## 1.2\n",
    "Give the running time for `andwelcome(0, N)` in terms of $N$."
   ]
  },
  {
   "cell_type": "code",
   "execution_count": null,
   "metadata": {},
   "outputs": [],
   "source": [
    "public static void andwelcome(int low, int high) {\n",
    "    System.out.println(\"[ \");\n",
    "    for (int i = low; i < high; i += 1) {\n",
    "        System.out.print(\"loyal \");\n",
    "    }\n",
    "    System.out.println(\"]\");\n",
    "    if (high - low > 0) {\n",
    "        double coin = Math.random();\n",
    "        if (coin > 0.5) {\n",
    "            andwelcome(low, low + (high - low) / 2);\n",
    "        } else {\n",
    "            andwelcome(low, low + (high - low) / 2);\n",
    "            andwelcome(low + (high - low) / 2, high);\n",
    "        }\n",
    "    }\n",
    "}"
   ]
  },
  {
   "cell_type": "markdown",
   "metadata": {},
   "source": [
    "##### My Own Answer\n",
    "\n",
    "The part that prints `\"loyal \"` executes for every $N$, so at the very least, there is an $N$ term.\n",
    "\n",
    "The second part of the code calls recursive `andwelcome`. However if we analyze both cases:\n",
    "\n",
    "* In case `coin > 0.5`\n",
    "    * calls `andwelcome(0, N/2)`\n",
    "* Otherwise,\n",
    "    * calls `andwelcome(0, N/2)`\n",
    "    * calls `andwelcome(N/2, N)`\n",
    "    \n",
    "In either cases, the amount of iteration is halved. for every `andwelcome` call. Thus on top of `N`, we have a `log N` term.\n",
    "\n",
    "Therefore, the run time is $\\Theta(N log N)$"
   ]
  },
  {
   "cell_type": "markdown",
   "metadata": {},
   "source": [
    "#### Consulted Solution Manual\n",
    "\n",
    "For each case, the recursive relation is different.\n",
    "\n",
    "##### Best Case (`coin > 0.5`)\n",
    "Same analysis as the previous problem.\n",
    "\n",
    "![](images/same.png)\n",
    "\n",
    "Runtime for best case scenario = $\\Theta(N)$\n",
    "\n",
    "##### Worst Case (otherwise)\n",
    "Every call of `andwelcome` results in a branching factor of 2, thus there are $2^i$ nodes in the $i^{th}$ layer.\n",
    "* e.g. $0^{th}$ layer has $2^0 = 1$ node\n",
    "* 1st layer has $2^1 = 2$ nodes\n",
    "\n",
    "![](images/worst.png)\n",
    "\n",
    "##### 1. Height of Tree\n",
    "Height is the same as the previous problem, $log n$\n",
    "\n",
    "##### 2. Branding Factor\n",
    "\n",
    "Looking at the tree above, in every layer, every node branches out to 2 different paths. Since the \\# of nodes is a multiple of `2`,\n",
    "\n",
    "$$\\frac{\\text{# of }nodes}{layer} = 2^i \\text{ for layer } i$$\n",
    "\n",
    "##### 3. Amount of work each node does\n",
    "Looking at the tree above, for layer `i` = 1, the work of each node is $\\frac{N}{2}$.\n",
    "* For layer `i` = 2, it's $\\frac{N}{4}$\n",
    "\n",
    "Notice that the denominator of the work is a power of `2`, where the power is the number of layers. Thus, \n",
    "$$\\frac{work}{node} = \\frac{N}{2^i}$$\n",
    "\n",
    "##### Running Time\n",
    "\n",
    "$$\\text{running time} = \\text{sum over layers} \\cdot \\frac{\\text{# of nodes}}{1 \\text{ layer}} \\cdot \\frac{\\text{amount of work}}{1 \\text{ node}}$$\n",
    "\n",
    "$$ \\sum_{i=0}^{log N} 2^i \\frac{N}{2^i} =  \\sum_{i=0}^{log N} N = N  \\sum_{i=0}^{log N} 1 $$\n",
    "$$ = N log N \\in \\Theta(N log N)$$\n",
    "\n",
    "Therefore, \n",
    "* Worst case scenario runtime: $\\Theta(N)$\n",
    "* Best case scenario runtime: $\\Theta(N log N)$"
   ]
  },
  {
   "cell_type": "markdown",
   "metadata": {},
   "source": [
    "## 1.3\n",
    "Give the running time in terms of $N$."
   ]
  },
  {
   "cell_type": "code",
   "execution_count": null,
   "metadata": {},
   "outputs": [],
   "source": [
    "public int tothe(int N) {\n",
    "    if (N <= 1) {\n",
    "        return N;\n",
    "    }\n",
    "    return tothe(N-1) + tothe(N-1)\n",
    "}"
   ]
  },
  {
   "cell_type": "markdown",
   "metadata": {},
   "source": [
    "##### My Solution (Drawing from Solution Manual)\n",
    "\n",
    "![](images/tothe.png)\n",
    "\n",
    "##### 1. Height of Tree\n",
    "Depending on whether we want the iteration to stop at `0` or `1`, the height can be either `N-1` or `N` since we simply subract `1` from `N` for each recursive call. THe end result doesn't matter anyway.\n",
    "\n",
    "##### 2. Branding Factor\n",
    "Similar to the previous problem, since every layer the node branches by 2,\n",
    "\n",
    "$$\\frac{\\text{# of }nodes}{layer} = 2^i \\text{ for layer } i$$\n",
    "\n",
    "##### 3. Amount of work each node does\n",
    "In this case, each node does a constant amount of work.\n",
    "\n",
    "$$\\frac{work}{node} = O(i)$$\n",
    "\n",
    "##### Running Time\n",
    "\n",
    "$$ \\sum_{i=0}^{N} 2^i (1) = 2^N \\in \\Theta(2^n)$$\n",
    "\n",
    "For worst case and best case, both are $\\Theta(2^N)$."
   ]
  },
  {
   "cell_type": "markdown",
   "metadata": {},
   "source": [
    "## 1.4\n",
    "\n",
    "Give the running time in terms of $N$. A $O$-bound is sufficient."
   ]
  },
  {
   "cell_type": "code",
   "execution_count": null,
   "metadata": {},
   "outputs": [],
   "source": [
    "public static void spacejam(int N) {\n",
    "    if (N <= 1) {\n",
    "        return;\n",
    "    }\n",
    "    for (int i = 0; i < N; i += 1){\n",
    "        spacejam(N - 1);\n",
    "    }\n",
    "}"
   ]
  },
  {
   "cell_type": "markdown",
   "metadata": {},
   "source": []
  }
 ],
 "metadata": {
  "kernelspec": {
   "display_name": "Python 3",
   "language": "python",
   "name": "python3"
  },
  "language_info": {
   "codemirror_mode": {
    "name": "ipython",
    "version": 3
   },
   "file_extension": ".py",
   "mimetype": "text/x-python",
   "name": "python",
   "nbconvert_exporter": "python",
   "pygments_lexer": "ipython3",
   "version": "3.7.4"
  }
 },
 "nbformat": 4,
 "nbformat_minor": 2
}
