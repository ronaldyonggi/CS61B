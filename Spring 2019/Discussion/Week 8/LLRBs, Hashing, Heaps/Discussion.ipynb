{
 "cells": [
  {
   "cell_type": "markdown",
   "metadata": {},
   "source": [
    "# 2. Hashing\n",
    "\n",
    "### 2.1"
   ]
  },
  {
   "cell_type": "code",
   "execution_count": null,
   "metadata": {},
   "outputs": [],
   "source": [
    "// Valid\n",
    "public int hashCode() {\n",
    "    return -1\n",
    "}"
   ]
  },
  {
   "cell_type": "markdown",
   "metadata": {},
   "source": [
    "Above is valid. However, it's a bad implementation since any `Integer`'s hashCode return the same hash code, which causes collision 100% of the time."
   ]
  },
  {
   "cell_type": "code",
   "execution_count": null,
   "metadata": {},
   "outputs": [],
   "source": [
    "// Valid\n",
    "public int hashCode() {\n",
    "    return intValue() * intValue()\n",
    "}"
   ]
  },
  {
   "cell_type": "markdown",
   "metadata": {},
   "source": [
    "Valid, but if the `intValue()` returns the same value as the integer, collision will occur for numbers with the same absolute value (e.g. `-5` and `5` returns the same hashCode, `25`)."
   ]
  },
  {
   "cell_type": "code",
   "execution_count": null,
   "metadata": {},
   "outputs": [],
   "source": [
    "// Invalid\n",
    "public int hashCode() {\n",
    "    return super.hashCode();\n",
    "}"
   ]
  },
  {
   "cell_type": "markdown",
   "metadata": {},
   "source": [
    "Invalid! This method returns a hashCode that depends on the integer's location in the memory. This means integers that are `equals()` to each other won't necessarily have the same hashCode."
   ]
  },
  {
   "cell_type": "markdown",
   "metadata": {},
   "source": [
    "## 3. Heaps of Fun"
   ]
  },
  {
   "cell_type": "code",
   "execution_count": null,
   "metadata": {},
   "outputs": [],
   "source": [
    "h.insert('f')\n",
    "    \n",
    "    f"
   ]
  },
  {
   "cell_type": "code",
   "execution_count": null,
   "metadata": {},
   "outputs": [],
   "source": [
    "h.insert('h')\n",
    "    \n",
    "    f\n",
    "   /\n",
    "  h"
   ]
  },
  {
   "cell_type": "code",
   "execution_count": null,
   "metadata": {},
   "outputs": [],
   "source": [
    "h.insert('d')\n",
    "    \n",
    "    d\n",
    "   / \\\n",
    "  h   f "
   ]
  },
  {
   "cell_type": "code",
   "execution_count": null,
   "metadata": {},
   "outputs": [],
   "source": [
    "h.insert('b')\n",
    "    \n",
    "        b\n",
    "       / \\\n",
    "      d   f\n",
    "     /\n",
    "    h "
   ]
  },
  {
   "cell_type": "code",
   "execution_count": null,
   "metadata": {},
   "outputs": [],
   "source": [
    "h.insert('c')\n",
    "    \n",
    "        b\n",
    "       / \\\n",
    "      c   f\n",
    "     / \\\n",
    "    h   d"
   ]
  },
  {
   "cell_type": "code",
   "execution_count": null,
   "metadata": {},
   "outputs": [],
   "source": [
    "h.removemin()\n",
    "    \n",
    "        c\n",
    "       / \\\n",
    "      d   f\n",
    "     /\n",
    "    h   "
   ]
  },
  {
   "cell_type": "code",
   "execution_count": null,
   "metadata": {},
   "outputs": [],
   "source": [
    "h.removemin()\n",
    "    \n",
    "        d\n",
    "       / \\\n",
    "      h   f   "
   ]
  }
 ],
 "metadata": {
  "kernelspec": {
   "display_name": "Java",
   "language": "java",
   "name": "java"
  },
  "language_info": {
   "codemirror_mode": "java",
   "file_extension": ".jshell",
   "mimetype": "text/x-java-source",
   "name": "Java",
   "pygments_lexer": "java",
   "version": "11.0.6+10-post-Ubuntu-1ubuntu118.04.1"
  }
 },
 "nbformat": 4,
 "nbformat_minor": 4
}
