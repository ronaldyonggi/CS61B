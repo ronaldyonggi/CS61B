{
 "cells": [
  {
   "cell_type": "markdown",
   "metadata": {},
   "source": [
    "## Loops Example 2"
   ]
  },
  {
   "cell_type": "markdown",
   "metadata": {},
   "source": [
    "Find a simple `f(N)` such that the runtime $R(N) \\in \\Theta(f(N))$. By simple, we mean there should be no unnecessary multiplicative constants or additive terms.\n",
    "\n",
    "Note that there's only one case for this code, therefore there's no distinction between \"worst case\" and otherwise."
   ]
  },
  {
   "cell_type": "code",
   "execution_count": null,
   "metadata": {},
   "outputs": [],
   "source": [
    "public static void printParty(int N) {\n",
    "    for (int i = 1; i <= N; i = i * 2) {\n",
    "        for (int j = 0; j < i; j += 1) {\n",
    "            System.out.println(\"hello\");\n",
    "            int ZUG = 1 + 1;\n",
    "        }\n",
    "    }\n",
    "}"
   ]
  },
  {
   "cell_type": "markdown",
   "metadata": {},
   "source": []
  }
 ],
 "metadata": {
  "kernelspec": {
   "display_name": "Python 3",
   "language": "python",
   "name": "python3"
  },
  "language_info": {
   "codemirror_mode": {
    "name": "ipython",
    "version": 3
   },
   "file_extension": ".py",
   "mimetype": "text/x-python",
   "name": "python",
   "nbconvert_exporter": "python",
   "pygments_lexer": "ipython3",
   "version": "3.7.4"
  }
 },
 "nbformat": 4,
 "nbformat_minor": 4
}
