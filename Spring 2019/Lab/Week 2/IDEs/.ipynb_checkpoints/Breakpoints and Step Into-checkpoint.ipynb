{
 "cells": [
  {
   "cell_type": "markdown",
   "metadata": {},
   "source": [
    "## `DebugExercise1.java`"
   ]
  },
  {
   "cell_type": "markdown",
   "metadata": {},
   "source": [
    "The bug can be found when calculating `divideThenRound(t3, b3)`. Within the `divideThenRound` calculation, `quotient` comes up as `0`. We might be tempted to change `quotient` to `double`, but it will give out an error message! One fix is to change the whole system's data types from `int` to `double`."
   ]
  }
 ],
 "metadata": {
  "kernelspec": {
   "display_name": "Python 3",
   "language": "python",
   "name": "python3"
  },
  "language_info": {
   "codemirror_mode": {
    "name": "ipython",
    "version": 3
   },
   "file_extension": ".py",
   "mimetype": "text/x-python",
   "name": "python",
   "nbconvert_exporter": "python",
   "pygments_lexer": "ipython3",
   "version": "3.7.3"
  }
 },
 "nbformat": 4,
 "nbformat_minor": 4
}
