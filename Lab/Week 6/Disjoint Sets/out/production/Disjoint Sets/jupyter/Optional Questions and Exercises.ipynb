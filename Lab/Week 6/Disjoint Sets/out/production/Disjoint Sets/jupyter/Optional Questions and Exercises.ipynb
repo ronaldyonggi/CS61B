{
 "cells": [
  {
   "cell_type": "markdown",
   "metadata": {},
   "source": [
    "## Quick Find"
   ]
  },
  {
   "cell_type": "markdown",
   "metadata": {},
   "source": [
    "1 - Using the Quick Find algorithm with `N` items, what's the worst-case runtime for the `find` operation?\n",
    "\n",
    "Note: The `find` operation is like the `isConnected` operation.\n",
    "\n",
    "**Ans**: $\\Theta(N)$\n",
    "\n",
    "2 - How about `union` operation?\n",
    "\n",
    "Note: `union` is akin to `connect`."
   ]
  },
  {
   "cell_type": "code",
   "execution_count": null,
   "metadata": {},
   "outputs": [],
   "source": [
    "// connect method\n",
    "public void connect(int p, int q) {\n",
    "    int pid = id[p];\n",
    "    int qid = id[q];\n",
    "    for(int i = 0; i < id.length; i++) {\n",
    "        if (id[i] == pid) {\n",
    "            id[i] = qid;\n",
    "        }\n",
    "    }...\n",
    "}"
   ]
  },
  {
   "cell_type": "markdown",
   "metadata": {},
   "source": [
    "![](images/list_int.png)"
   ]
  },
  {
   "cell_type": "markdown",
   "metadata": {},
   "source": [
    "For example, if we want to `union(2, 3)`, we'll have to change all the item that's the same as `id = 2`, 4, to the item inside `id=3`, 5.\n",
    "\n",
    "Since we have to go though the entire array, there'll be about `N+2` to `2N+2` array accesses. The worst case runtime is $\\Theta(N)$."
   ]
  },
  {
   "cell_type": "markdown",
   "metadata": {},
   "source": [
    "## Weighted Quick Union"
   ]
  },
  {
   "cell_type": "markdown",
   "metadata": {},
   "source": [
    "Suppose we have a fully connected `DisjointSets` object with 6 items. Give the best and worst case height for the 2 implementations below. "
   ]
  }
 ],
 "metadata": {
  "kernelspec": {
   "display_name": "Python 3",
   "language": "python",
   "name": "python3"
  },
  "language_info": {
   "codemirror_mode": {
    "name": "ipython",
    "version": 3
   },
   "file_extension": ".py",
   "mimetype": "text/x-python",
   "name": "python",
   "nbconvert_exporter": "python",
   "pygments_lexer": "ipython3",
   "version": "3.7.4"
  }
 },
 "nbformat": 4,
 "nbformat_minor": 2
}
