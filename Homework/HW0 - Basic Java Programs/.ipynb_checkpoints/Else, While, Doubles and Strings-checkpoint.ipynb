{
 "cells": [
  {
   "cell_type": "markdown",
   "metadata": {},
   "source": [
    "# Else"
   ]
  },
  {
   "cell_type": "markdown",
   "metadata": {},
   "source": [
    "The `else` keyword allows us to specify behavior that should occur if a condition is not met. For example:"
   ]
  },
  {
   "cell_type": "code",
   "execution_count": 2,
   "metadata": {},
   "outputs": [
    {
     "name": "stdout",
     "output_type": "stream",
     "text": [
      "x - 3 is not greater than 8\n"
     ]
    }
   ],
   "source": [
    "int x = 9;\n",
    "\n",
    "if (x - 3 > 8) {\n",
    "    System.out.println(\"x - 3 is greater than 8\");\n",
    "} else {\n",
    "    System.out.println(\"x - 3 is not greater than 8\");\n",
    "}"
   ]
  },
  {
   "cell_type": "markdown",
   "metadata": {},
   "source": [
    "We can also chain `else` statements,"
   ]
  },
  {
   "cell_type": "code",
   "execution_count": 3,
   "metadata": {},
   "outputs": [
    {
     "name": "stdout",
     "output_type": "stream",
     "text": [
      "bark!\n"
     ]
    }
   ],
   "source": [
    "int dogSize = 20;\n",
    "if (dogSize >= 50) {\n",
    "    System.out.println(\"woof!\");\n",
    "} else if (dogSize >= 10) {\n",
    "    System.out.println(\"bark!\");\n",
    "} else {\n",
    "    System.out.println(\"yip!\");\n",
    "}"
   ]
  },
  {
   "cell_type": "markdown",
   "metadata": {},
   "source": [
    "# While"
   ]
  },
  {
   "cell_type": "markdown",
   "metadata": {},
   "source": [
    "The `while` keyword lets you repeat a block of code as long as the condition imposed is true. "
   ]
  },
  {
   "cell_type": "code",
   "execution_count": null,
   "metadata": {},
   "outputs": [],
   "source": [
    "int bottles = 99;\n",
    "while (bottles > 0) {\n",
    "    System.out.println(bottles + \" bottles of beer on the wall.\");\n",
    "    bottles = bottles - 1;\n",
    "}"
   ]
  }
 ],
 "metadata": {
  "kernelspec": {
   "display_name": "Java",
   "language": "java",
   "name": "java"
  },
  "language_info": {
   "name": ""
  }
 },
 "nbformat": 4,
 "nbformat_minor": 4
}
