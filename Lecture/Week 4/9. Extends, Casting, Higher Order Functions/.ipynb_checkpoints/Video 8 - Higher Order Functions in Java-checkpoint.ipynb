{
 "cells": [
  {
   "cell_type": "markdown",
   "metadata": {},
   "source": [
    "# Higher-Order Functions"
   ]
  },
  {
   "cell_type": "markdown",
   "metadata": {},
   "source": [
    "A higher order function is a function that treats another function as data.\n",
    "* e.g. takes a function as input.\n",
    "\n",
    "Example in Python:"
   ]
  },
  {
   "cell_type": "code",
   "execution_count": 1,
   "metadata": {},
   "outputs": [
    {
     "name": "stdout",
     "output_type": "stream",
     "text": [
      "200\n"
     ]
    }
   ],
   "source": [
    "def tenX(x):\n",
    "    return 10 * x\n",
    "\n",
    "def do_twice(f, x):\n",
    "    return f(f(x))\n",
    "\n",
    "print(do_twice(tenX, 2))"
   ]
  },
  {
   "cell_type": "markdown",
   "metadata": {},
   "source": [
    "## Higher Order Functions in Java 7"
   ]
  },
  {
   "cell_type": "markdown",
   "metadata": {},
   "source": [
    "In Old School Java (Java 7 and earlier)\n",
    "* Fundamental issue: memory boxes (variables) can't contain pointers to functions.\n",
    "\n",
    "We can't write function that has function type\n",
    "* Recall Java automatically does type checking during compile time\n",
    "* But there's no type for functions\n",
    "\n",
    "The workaround is to use interface inheritance.\n",
    "* Define some abstract class that looks like a function but doesn't have a specific function (e.g. `IntUnaryFunction`)\n",
    "* Override the class's undefined method (e.g. `apply(int)`)\n"
   ]
  }
 ],
 "metadata": {
  "kernelspec": {
   "display_name": "Python 3",
   "language": "python",
   "name": "python3"
  },
  "language_info": {
   "codemirror_mode": {
    "name": "ipython",
    "version": 3
   },
   "file_extension": ".py",
   "mimetype": "text/x-python",
   "name": "python",
   "nbconvert_exporter": "python",
   "pygments_lexer": "ipython3",
   "version": "3.7.3"
  }
 },
 "nbformat": 4,
 "nbformat_minor": 4
}
