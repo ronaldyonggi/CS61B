{
 "cells": [
  {
   "cell_type": "markdown",
   "metadata": {},
   "source": [
    "Currently we have the following `toString()` implementation,"
   ]
  },
  {
   "cell_type": "code",
   "execution_count": null,
   "metadata": {},
   "outputs": [],
   "source": [
    "@Override\n",
    "public String toString() {\n",
    "    StringBUilder returnSB = new StringBuilder(\"{\");\n",
    "    for (int i = 0; i < size - 1; i += 1) {\n",
    "        returnSB.append(items[i]);\n",
    "        returnSB.append(\", \");\n",
    "    }\n",
    "    returnSB.append(items[size - 1]);\n",
    "    returnSB.append(\"}\");\n",
    "    return returnSB.toString();\n",
    "}"
   ]
  },
  {
   "cell_type": "markdown",
   "metadata": {},
   "source": [
    "It might seem off because at the end we have to handle the special case of having comma `,`. We can improve our implementation  "
   ]
  }
 ],
 "metadata": {
  "kernelspec": {
   "display_name": "Python 3",
   "language": "python",
   "name": "python3"
  },
  "language_info": {
   "codemirror_mode": {
    "name": "ipython",
    "version": 3
   },
   "file_extension": ".py",
   "mimetype": "text/x-python",
   "name": "python",
   "nbconvert_exporter": "python",
   "pygments_lexer": "ipython3",
   "version": "3.7.3"
  }
 },
 "nbformat": 4,
 "nbformat_minor": 4
}
