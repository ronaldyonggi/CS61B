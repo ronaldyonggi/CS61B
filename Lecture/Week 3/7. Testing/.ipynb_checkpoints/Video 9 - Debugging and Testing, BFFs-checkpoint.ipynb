{
 "cells": [
  {
   "cell_type": "markdown",
   "metadata": {},
   "source": [
    "We currently have the following for our `Sort` class,"
   ]
  },
  {
   "cell_type": "code",
   "execution_count": null,
   "metadata": {},
   "outputs": [],
   "source": [
    "public class Sort {\n",
    "\n",
    "    public static void sort(String[] x){\n",
    "        sort(x, 0); // Call the helper sort method\n",
    "    }\n",
    "\n",
    "    private static void sort(String[] x, int start) {\n",
    "        int smallestIndex = findSmallest(x); // Find the smallest index during\n",
    "        swap(x, start, smallestIndex); // Swap the item at index[start] with the item at index [smallestIndex]\n",
    "        sort(x, start + 1); // Recursive call sort for the next starting point\n",
    "    }\n",
    "\n",
    "    public static int findSmallest(String[] x) {\n",
    "        int smallestIndex = 0;\n",
    "        for (int i = 0; i < x.length; i+= 1) {\n",
    "            int comparison = x[i].compareTo(x[smallestIndex]); // if x[i] is less than x[smallestIndex], it will return a negative number\n",
    "            if (comparison < 0) {\n",
    "                smallestIndex = i;\n",
    "            }\n",
    "        }\n",
    "        return smallestIndex;\n",
    "    }\n",
    "\n",
    "    public static void swap(String[] x, int a, int b) {\n",
    "        String temp = x[a];\n",
    "        x[a] = x[b];\n",
    "        x[b] = temp;\n",
    "    }\n",
    "}"
   ]
  },
  {
   "cell_type": "markdown",
   "metadata": {},
   "source": [
    "If we try to run the `testSort()` test,"
   ]
  },
  {
   "cell_type": "code",
   "execution_count": null,
   "metadata": {},
   "outputs": [],
   "source": []
  }
 ],
 "metadata": {
  "kernelspec": {
   "display_name": "Python 3",
   "language": "python",
   "name": "python3"
  },
  "language_info": {
   "codemirror_mode": {
    "name": "ipython",
    "version": 3
   },
   "file_extension": ".py",
   "mimetype": "text/x-python",
   "name": "python",
   "nbconvert_exporter": "python",
   "pygments_lexer": "ipython3",
   "version": "3.7.3"
  }
 },
 "nbformat": 4,
 "nbformat_minor": 4
}
