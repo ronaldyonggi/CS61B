{
 "cells": [
  {
   "cell_type": "markdown",
   "metadata": {},
   "source": [
    "# Defining a Typical Class (Terminology)"
   ]
  },
  {
   "cell_type": "code",
   "execution_count": 1,
   "metadata": {},
   "outputs": [],
   "source": [
    "public class Dog{\n",
    "    public int weightInPounds;\n",
    "    \n",
    "    public Dog(int w) {\n",
    "        weightInPounds = w;\n",
    "    }\n",
    "    \n",
    "    public void makeNoise() {\n",
    "        if (weightInPounds < 10) {\n",
    "            System.out.println(\"yip!\");\n",
    "        } else if (weightInPounds < 30) {\n",
    "            System.out.println(\"bark.\");\n",
    "        } else {\n",
    "            System.out.println(\"wooooof!\");\n",
    "        }\n",
    "    }\n",
    "}"
   ]
  },
  {
   "cell_type": "markdown",
   "metadata": {},
   "source": [
    "Let's break down our `Dog` class and analyze the components!"
   ]
  },
  {
   "cell_type": "markdown",
   "metadata": {},
   "source": [
    "#### Instance Variable"
   ]
  },
  {
   "cell_type": "code",
   "execution_count": null,
   "metadata": {},
   "outputs": [],
   "source": [
    "public int weightInPounds; // Instance variable"
   ]
  },
  {
   "cell_type": "markdown",
   "metadata": {},
   "source": [
    "`weightInPounds` is an `instance variable`. Instance variables keep track of properties of an instance of a class."
   ]
  },
  {
   "cell_type": "markdown",
   "metadata": {},
   "source": [
    "#### Constructor"
   ]
  },
  {
   "cell_type": "code",
   "execution_count": null,
   "metadata": {},
   "outputs": [],
   "source": [
    "public Dog(int startingWeight) {\n",
    "    weightInPounds = startingWeight;\n",
    "}"
   ]
  },
  {
   "cell_type": "markdown",
   "metadata": {},
   "source": [
    "Above, we have the `Dog` constructor, which tells us how to create an instance of the `Dog` class.  Commonly a constructor sets the instance variables (e.g. `weightInPounds`)."
   ]
  },
  {
   "cell_type": "markdown",
   "metadata": {},
   "source": [
    "#### Non-static method, or Instance Method"
   ]
  },
  {
   "cell_type": "code",
   "execution_count": null,
   "metadata": {},
   "outputs": [],
   "source": [
    "public void makeNoise() {\n",
    "        if (weightInPounds < 10) {\n",
    "            System.out.println(\"yip!\");\n",
    "        } else if (weightInPounds < 30) {\n",
    "            System.out.println(\"bark.\");\n",
    "        } else {\n",
    "            System.out.println(\"wooooof!\");\n",
    "        }\n",
    "    }"
   ]
  },
  {
   "cell_type": "markdown",
   "metadata": {},
   "source": [
    "If the method is called by an instance of a class, then the method should be non-static."
   ]
  }
 ],
 "metadata": {
  "kernelspec": {
   "display_name": "Python 3",
   "language": "python",
   "name": "python3"
  },
  "language_info": {
   "codemirror_mode": {
    "name": "ipython",
    "version": 3
   },
   "file_extension": ".py",
   "mimetype": "text/x-python",
   "name": "python",
   "nbconvert_exporter": "python",
   "pygments_lexer": "ipython3",
   "version": "3.7.3"
  }
 },
 "nbformat": 4,
 "nbformat_minor": 4
}
