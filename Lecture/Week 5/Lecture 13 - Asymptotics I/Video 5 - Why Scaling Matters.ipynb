{
 "cells": [
  {
   "cell_type": "markdown",
   "metadata": {},
   "source": [
    "## Comparing Algorithms"
   ]
  },
  {
   "cell_type": "markdown",
   "metadata": {},
   "source": [
    "Which algorithm is better? Why?"
   ]
  },
  {
   "cell_type": "markdown",
   "metadata": {},
   "source": [
    "### `dup1`\n",
    "\n",
    "| operation | symbolic count|\n",
    "| --- | --- |\n",
    "| `i = 0` | 1 |\n",
    "| `j = i + 1` | 1 to N|\n",
    "| less than (`<`) | 2 to $\\frac{N^2 + 3N + 2}{2}$|\n",
    "| increment (`+=1`) | 0 to $\\frac{N^2 + N}{2}$|\n",
    "| equals (`==`) | 1 to $\\frac{N^2 - N}{2}$ |\n",
    "| array accesses| 2 to $N^2 - N$ |"
   ]
  }
 ],
 "metadata": {
  "kernelspec": {
   "display_name": "Python 3",
   "language": "python",
   "name": "python3"
  },
  "language_info": {
   "codemirror_mode": {
    "name": "ipython",
    "version": 3
   },
   "file_extension": ".py",
   "mimetype": "text/x-python",
   "name": "python",
   "nbconvert_exporter": "python",
   "pygments_lexer": "ipython3",
   "version": "3.7.3"
  }
 },
 "nbformat": 4,
 "nbformat_minor": 4
}
