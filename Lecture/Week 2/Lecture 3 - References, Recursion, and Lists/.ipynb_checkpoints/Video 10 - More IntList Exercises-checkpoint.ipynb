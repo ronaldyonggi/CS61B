{
 "cells": [
  {
   "cell_type": "markdown",
   "metadata": {},
   "source": [
    "# Challenge"
   ]
  },
  {
   "cell_type": "markdown",
   "metadata": {},
   "source": [
    "Write a method `int get(int i)` that returns the ith item in the list. \n",
    "1. For simplicity, it's ok to assume the item exists\n",
    "2. Front item is the 0th item\n",
    "\n",
    "For example, if we have the following IntList `L`,\n",
    "\n",
    "<img src = 'challenge.png' width = 500/>"
   ]
  },
  {
   "cell_type": "markdown",
   "metadata": {},
   "source": [
    "Then `L.get(0)` should return `5`, while `L.get(1)` should return `10`."
   ]
  },
  {
   "cell_type": "code",
   "execution_count": null,
   "metadata": {},
   "outputs": [],
   "source": [
    "public int get(int i){\n",
    "    // Using recursive implementation\n",
    "    if (i == 0) { // if i is 0, then return the current IntList's first\n",
    "        return this.first;\n",
    "    } else { // Otherwise, call recursive get on this.rest with decrementing i\n",
    "        return this.rest.get(i-1);\n",
    "    }\n",
    "}"
   ]
  },
  {
   "cell_type": "markdown",
   "metadata": {},
   "source": [
    "Our `IntList` class now looks like the following,"
   ]
  },
  {
   "cell_type": "code",
   "execution_count": 1,
   "metadata": {},
   "outputs": [],
   "source": [
    "public class IntList {\n",
    "    public int first;\n",
    "    public IntList rest;\n",
    "    \n",
    "    public IntList(int f, IntList r){\n",
    "        first = f;\n",
    "        rest = r;\n",
    "    }\n",
    "    \n",
    "    public int get(int i){\n",
    "        // Using recursive\n",
    "        if (i == 0) {\n",
    "            return this.first;\n",
    "        } else {\n",
    "            return this.rest.get(i-1);\n",
    "        }\n",
    "    }\n",
    "    \n",
    "}"
   ]
  },
  {
   "cell_type": "markdown",
   "metadata": {},
   "source": [
    "Now let's test if the code works!"
   ]
  },
  {
   "cell_type": "code",
   "execution_count": 20,
   "metadata": {},
   "outputs": [
    {
     "name": "stdout",
     "output_type": "stream",
     "text": [
      "5\n",
      "10\n",
      "15\n"
     ]
    }
   ],
   "source": [
    "// Again, assume the code below is placed inside the main method\n",
    "IntList L = new IntList(15, null);\n",
    "L = new IntList(10, L);\n",
    "L = new IntList(5, L);\n",
    "System.out.println(L.get(0));\n",
    "System.out.println(L.get(1));\n",
    "System.out.println(L.get(2));"
   ]
  },
  {
   "cell_type": "markdown",
   "metadata": {},
   "source": [
    "## `ExtraIntListPractice.java`"
   ]
  },
  {
   "cell_type": "markdown",
   "metadata": {},
   "source": [
    "For further practice with `IntLists`, fill out the code for methods listed below."
   ]
  },
  {
   "cell_type": "markdown",
   "metadata": {},
   "source": [
    "#### `incrList`"
   ]
  },
  {
   "cell_type": "code",
   "execution_count": 15,
   "metadata": {},
   "outputs": [],
   "source": [
    "public static IntList incrList(IntList L, int x) {\n",
    "    IntList Q = null; // Declare the IntList variable\n",
    "    IntList p = L; // Pointer\n",
    "    while (p != null) {\n",
    "        Q = new IntList(p.first + x, Q);\n",
    "        p = p.rest;\n",
    "    }\n",
    "    return Q;\n",
    "}"
   ]
  },
  {
   "cell_type": "markdown",
   "metadata": {},
   "source": [
    "Let's test out the `incrList` method!"
   ]
  },
  {
   "cell_type": "code",
   "execution_count": 16,
   "metadata": {},
   "outputs": [],
   "source": [
    "public class IntList {\n",
    "    public int first;\n",
    "    public IntList rest;\n",
    "    \n",
    "    public IntList(int f, IntList r){\n",
    "        first = f;\n",
    "        rest = r;\n",
    "    }\n",
    "    \n",
    "    public int get(int i){\n",
    "        // Using recursive\n",
    "        if (i == 0) {\n",
    "            return this.first;\n",
    "        } else {\n",
    "            return this.rest.get(i-1);\n",
    "        }\n",
    "    }\n",
    "    \n",
    "    public static IntList incrList(IntList L, int x) {\n",
    "        IntList Q = null; // Declare the IntList variable\n",
    "        IntList p = L; // Pointer\n",
    "        while (p != null) {\n",
    "            Q = new IntList(p.first + x, Q);\n",
    "            p = p.rest;\n",
    "        }\n",
    "        return Q;\n",
    "    }\n",
    "    \n",
    "}"
   ]
  },
  {
   "cell_type": "code",
   "execution_count": 21,
   "metadata": {},
   "outputs": [
    {
     "name": "stdout",
     "output_type": "stream",
     "text": [
      "3\n"
     ]
    }
   ],
   "source": [
    "// Again, assume the code below is placed inside the main method\n",
    "IntList L = new IntList(43, null);\n",
    "L = new IntList(3, L);\n",
    "Q = IntList.incrList(L, 2);\n",
    "System.out.println(Q.get(0));\n"
   ]
  },
  {
   "cell_type": "markdown",
   "metadata": {},
   "source": [
    "The method above:\n",
    "1. Returns an `IntList` identical to L, but with all values incremented by x\n",
    "2. Values in L can't change\n",
    "\n",
    "For example, if we have the `IntList L` and `x` is 2, then the result would be the following,\n",
    "\n",
    "<img src = 'incr.png' width = 300/>"
   ]
  },
  {
   "cell_type": "markdown",
   "metadata": {},
   "source": [
    "#### `dincrList`"
   ]
  },
  {
   "cell_type": "code",
   "execution_count": null,
   "metadata": {},
   "outputs": [],
   "source": [
    "public static IntList dincrList(IntList L, int x)"
   ]
  },
  {
   "cell_type": "markdown",
   "metadata": {},
   "source": [
    "The method above,\n",
    "\n",
    "1. Returns an IntList identical to L, but with all values incremented by `x`\n",
    "2. Not allowed to use `new` (to save memory).\n",
    "\n",
    "For example, the result would be the following,\n",
    "\n",
    "<img src = 'dincr.png' width = 300/>"
   ]
  },
  {
   "cell_type": "markdown",
   "metadata": {},
   "source": []
  },
  {
   "cell_type": "code",
   "execution_count": null,
   "metadata": {},
   "outputs": [],
   "source": []
  }
 ],
 "metadata": {
  "kernelspec": {
   "display_name": "Java",
   "language": "java",
   "name": "java"
  },
  "language_info": {
   "codemirror_mode": {
    "name": "ipython",
    "version": 3
   },
   "file_extension": ".py",
   "mimetype": "text/x-python",
   "name": "python",
   "nbconvert_exporter": "python",
   "pygments_lexer": "ipython3",
   "version": "3.7.3"
  }
 },
 "nbformat": 4,
 "nbformat_minor": 4
}
