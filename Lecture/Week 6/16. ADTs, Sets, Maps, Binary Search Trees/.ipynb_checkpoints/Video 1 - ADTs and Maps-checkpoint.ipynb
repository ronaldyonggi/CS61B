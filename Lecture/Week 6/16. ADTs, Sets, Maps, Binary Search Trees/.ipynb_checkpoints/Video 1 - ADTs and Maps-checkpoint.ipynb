{
 "cells": [
  {
   "cell_type": "markdown",
   "metadata": {},
   "source": [
    "# Abstract Data Types"
   ]
  },
  {
   "cell_type": "markdown",
   "metadata": {},
   "source": [
    "## Interfaces vs Implementation"
   ]
  },
  {
   "cell_type": "markdown",
   "metadata": {},
   "source": [
    "![](images/List)\n",
    "\n",
    "In class, we...\n",
    "* ...developed `ALists` and `SLLists`\n",
    "* ...created an interface `List61B`\n",
    "    * Modified `AList` and `SLList` so that they implement `List61B`\n",
    "    * Add default methods to `List61B`\n",
    "    \n",
    "    \n",
    "![](images/Deque.png)\n",
    "In projects, we...\n",
    "* ...developed `ArrayDeque` and `LinkedListDeque`\n",
    "* ...created an interface `Deque`\n",
    "    * Modified them so that they implement `Deque`\n",
    "    \n",
    "![](images/disjoint)\n",
    "With `DisjointSets`, we saw an even more rich set of possible implementations"
   ]
  },
  {
   "cell_type": "markdown",
   "metadata": {},
   "source": [
    "## Abstract Data Types"
   ]
  },
  {
   "cell_type": "markdown",
   "metadata": {},
   "source": [
    "An `Abstract Data Type (ADT)` is defined only by its operations, not by its implementation. For example, the Deque ADT consists of the following methods:"
   ]
  },
  {
   "cell_type": "code",
   "execution_count": null,
   "metadata": {},
   "outputs": [],
   "source": [
    "addFirst(Item x);\n",
    "addLast(Item x);\n",
    "boolean isEmpty();\n",
    "int size();\n",
    "printDeque();\n",
    "Item removeFirst();\n",
    "Item removeLast();\n",
    "Item get(int index);"
   ]
  },
  {
   "cell_type": "markdown",
   "metadata": {},
   "source": [
    "And we can have many different `Deque` implementations, such as `ArrayDeque` or `LinkedListDeque`. "
   ]
  },
  {
   "cell_type": "markdown",
   "metadata": {},
   "source": [
    "## The Stack - Another Example of an ADT"
   ]
  },
  {
   "cell_type": "markdown",
   "metadata": {},
   "source": [
    "The Stack ADT supports the following operations:"
   ]
  },
  {
   "cell_type": "code",
   "execution_count": null,
   "metadata": {},
   "outputs": [],
   "source": [
    "push(int x); // Puts x on top of the stack\n",
    "int pop(); // Removes and returns the top item from the stack"
   ]
  },
  {
   "cell_type": "markdown",
   "metadata": {},
   "source": [
    "For example, we have a stack containing the number 4. \n",
    "\n",
    "![](images/4)\n",
    "\n",
    "...if we push the number `6`, `6` will appear on top of 4.\n",
    "\n",
    "![](images/6.png)\n",
    "\n",
    "...if we push the number `2`, `2` will appear on top of 6.\n",
    "\n",
    "![](images/2.png)\n",
    "\n",
    "...now if we call `pop()`, the element at the top will come out.\n",
    "\n",
    "![](images/6.png)\n",
    "\n",
    "...and if we `pop()` once more, \n",
    "\n",
    "![](images/4)\n",
    "\n",
    "Between `Linked List` and `Array`, which implementation would result in faster overall performance? "
   ]
  },
  {
   "cell_type": "markdown",
   "metadata": {},
   "source": []
  }
 ],
 "metadata": {
  "kernelspec": {
   "display_name": "Python 3",
   "language": "python",
   "name": "python3"
  },
  "language_info": {
   "codemirror_mode": {
    "name": "ipython",
    "version": 3
   },
   "file_extension": ".py",
   "mimetype": "text/x-python",
   "name": "python",
   "nbconvert_exporter": "python",
   "pygments_lexer": "ipython3",
   "version": "3.7.4"
  }
 },
 "nbformat": 4,
 "nbformat_minor": 2
}
