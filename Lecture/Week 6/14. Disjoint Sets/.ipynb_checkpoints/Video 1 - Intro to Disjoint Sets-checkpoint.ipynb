{
 "cells": [
  {
   "cell_type": "markdown",
   "metadata": {},
   "source": [
    "## Meta-goals of the Coming Lectures: Data Structure Refinement"
   ]
  },
  {
   "cell_type": "markdown",
   "metadata": {},
   "source": [
    "Next couple of weeks, we'll work on deriving solutions to interesting problems, with an emphasis on how sets, maps, and priority queues are implemented.\n",
    "\n",
    "Today, we'll work on deriving the `Disjoint Sets` data structure for solving the `Dynamic Connectivity` problem. We'll see:\n",
    "* How a data structure design can evolve from basic to sophisticated\n",
    "* How our choice of underlying abstraction can affect asymptotic runtime (using our formal Big-Theta notation) and code complexity."
   ]
  },
  {
   "cell_type": "markdown",
   "metadata": {},
   "source": [
    "## The Disjoint Sets Data Structure"
   ]
  },
  {
   "cell_type": "markdown",
   "metadata": {},
   "source": [
    "The Disjoint Sets data structure has 2 operations:\n",
    "* `connect(x, y)`: Connects `x` and `y`\n",
    "* `isConnected(x, y)`: Returns true if `x` and `y` are connected\n",
    "    * Connections can be transitive, e.g. they don't need to be direct.\n",
    "\n",
    "This is useful for many purposes such as:\n",
    "* Percolation theory such as computational chemistry\n",
    "* Implementation of other algorithms, such as Kruskal's algorithm"
   ]
  },
  {
   "cell_type": "markdown",
   "metadata": {},
   "source": [
    "## Disjoint Sets on Integers"
   ]
  },
  {
   "cell_type": "markdown",
   "metadata": {},
   "source": [
    "To keep things simple, we're going to:\n",
    "* Force all items to be integers instead of arbitrary data\n",
    "* Declare the number of items in advance\n",
    "    * Initially, everything is disconnected"
   ]
  },
  {
   "cell_type": "code",
   "execution_count": null,
   "metadata": {},
   "outputs": [],
   "source": [
    "ds = DisjointSets(7)\n",
    "ds.connect(0, 1)\n",
    "ds.connect(1, 2)\n",
    "ds.connect(0, 4)\n",
    "ds.connect(3, 5)"
   ]
  },
  {
   "cell_type": "markdown",
   "metadata": {},
   "source": [
    "<img src = 'integers.png' width = 500/>"
   ]
  },
  {
   "cell_type": "code",
   "execution_count": null,
   "metadata": {},
   "outputs": [],
   "source": [
    "ds.isConnected(2, 4) // returns true\n",
    "ds.isConnected(3, 0) // returns false"
   ]
  },
  {
   "cell_type": "markdown",
   "metadata": {},
   "source": [
    "Now if we connect more numbers,"
   ]
  },
  {
   "cell_type": "code",
   "execution_count": null,
   "metadata": {},
   "outputs": [],
   "source": [
    "ds.connect(4, 2)\n",
    "ds.connect(4, 6)\n",
    "ds.connect(3, 6)"
   ]
  },
  {
   "cell_type": "markdown",
   "metadata": {},
   "source": [
    "<img src = 'integers2.png' width = 500/>"
   ]
  },
  {
   "cell_type": "code",
   "execution_count": null,
   "metadata": {},
   "outputs": [],
   "source": [
    "ds.isConnected(3, 0) // returns true"
   ]
  },
  {
   "cell_type": "markdown",
   "metadata": {},
   "source": [
    "## The Disjoint Sets Interface"
   ]
  },
  {
   "cell_type": "code",
   "execution_count": null,
   "metadata": {},
   "outputs": [],
   "source": [
    "public interface DisjointSets {\n",
    "    /** Connects 2 items P and Q */\n",
    "    void connect(int p, int q);\n",
    "    \n",
    "    /** Checks to see if 2 items are connected. */\n",
    "    boolean isConnected(int p, int q);\n",
    "}"
   ]
  },
  {
   "cell_type": "markdown",
   "metadata": {},
   "source": [
    "Goal: Design an efficient `DisjointSets` implementation. Some things to take into account,\n",
    "* Number of elements `N` can be huge\n",
    "* Number of method calls `M` can be huge\n",
    "* Calls to methods may be interspersed\n",
    "    * e.g. We can't assume that it'll be only `connect` operations followed by only `isConnected` operations"
   ]
  },
  {
   "cell_type": "markdown",
   "metadata": {},
   "source": [
    "## The Naive Approach"
   ]
  },
  {
   "cell_type": "markdown",
   "metadata": {},
   "source": [
    "* Connecting 2 things: Record every single connecting line in some data structure\n",
    "* Checking connectedness: Do some sort of iteration over the lines to see if one thing can be reached from the other.   "
   ]
  }
 ],
 "metadata": {
  "kernelspec": {
   "display_name": "Python 3",
   "language": "python",
   "name": "python3"
  },
  "language_info": {
   "codemirror_mode": {
    "name": "ipython",
    "version": 3
   },
   "file_extension": ".py",
   "mimetype": "text/x-python",
   "name": "python",
   "nbconvert_exporter": "python",
   "pygments_lexer": "ipython3",
   "version": "3.7.4"
  }
 },
 "nbformat": 4,
 "nbformat_minor": 2
}
